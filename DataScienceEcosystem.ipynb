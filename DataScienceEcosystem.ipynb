{
 "cells": [
  {
   "cell_type": "markdown",
   "id": "90f658ce",
   "metadata": {},
   "source": [
    "# Data Science Tools and Ecosystem"
   ]
  },
  {
   "cell_type": "markdown",
   "id": "9c5f0b13",
   "metadata": {},
   "source": [
    "In this notebook, Data Science Tools and Ecosystem are summarized."
   ]
  },
  {
   "cell_type": "markdown",
   "id": "df99eb5e",
   "metadata": {},
   "source": [
    "Objectives:"
   ]
  },
  {
   "cell_type": "markdown",
   "id": "14fee75a",
   "metadata": {},
   "source": [
    "* List of popular Data Science Languages\n",
    "* List of commonly used libraries in Data Science\n",
    "* List of popular open-source development tools used in Data Science\n",
    "* Examples of arithmatic evaluations done in python"
   ]
  },
  {
   "cell_type": "markdown",
   "id": "a0c80da3",
   "metadata": {},
   "source": [
    "Some of the popular languages that Data Scientists use are:"
   ]
  },
  {
   "cell_type": "markdown",
   "id": "736d4a9a",
   "metadata": {},
   "source": [
    "1. Python\n",
    "2. R\n",
    "3. SQL"
   ]
  },
  {
   "cell_type": "markdown",
   "id": "a71d2e26",
   "metadata": {},
   "source": [
    "Some of the commonly used libraries used by Data Scientists include:"
   ]
  },
  {
   "cell_type": "markdown",
   "id": "a7ce2440",
   "metadata": {},
   "source": [
    "1. NumPy\n",
    "2. Matplotlib\n",
    "3. PyTorch"
   ]
  },
  {
   "cell_type": "markdown",
   "id": "7c8d0510",
   "metadata": {},
   "source": [
    "| Data Science Tools | \n",
    "----------------------\n",
    "| Git |\n",
    "| Apache Atlas |\n",
    "| Apache Airflow |"
   ]
  },
  {
   "cell_type": "markdown",
   "id": "a894897f",
   "metadata": {},
   "source": [
    "### Below are a few examples of evaluating arithmetic expressions in Python"
   ]
  },
  {
   "cell_type": "code",
   "execution_count": 2,
   "id": "65afb15d",
   "metadata": {},
   "outputs": [],
   "source": [
    "# This a simple arithmetic expression to multiply then add integers"
   ]
  },
  {
   "cell_type": "code",
   "execution_count": 3,
   "id": "98a0d4a8",
   "metadata": {},
   "outputs": [
    {
     "data": {
      "text/plain": [
       "17"
      ]
     },
     "execution_count": 3,
     "metadata": {},
     "output_type": "execute_result"
    }
   ],
   "source": [
    "(3*4)+5"
   ]
  },
  {
   "cell_type": "code",
   "execution_count": null,
   "id": "7cb52a93",
   "metadata": {},
   "outputs": [],
   "source": []
  },
  {
   "cell_type": "code",
   "execution_count": 4,
   "id": "99a04104",
   "metadata": {},
   "outputs": [],
   "source": [
    "# This will convert 200 minutes to hours by dividing by 60"
   ]
  },
  {
   "cell_type": "code",
   "execution_count": 5,
   "id": "9a768912",
   "metadata": {},
   "outputs": [
    {
     "data": {
      "text/plain": [
       "3.3333333333333335"
      ]
     },
     "execution_count": 5,
     "metadata": {},
     "output_type": "execute_result"
    }
   ],
   "source": [
    "200/60"
   ]
  },
  {
   "cell_type": "code",
   "execution_count": null,
   "id": "38d878dd",
   "metadata": {},
   "outputs": [],
   "source": []
  },
  {
   "cell_type": "markdown",
   "id": "21ac3679",
   "metadata": {},
   "source": [
    "## Author : Kelello Phomello Stephens"
   ]
  },
  {
   "cell_type": "code",
   "execution_count": null,
   "id": "388e948f",
   "metadata": {},
   "outputs": [],
   "source": []
  }
 ],
 "metadata": {
  "kernelspec": {
   "display_name": "Python 3 (ipykernel)",
   "language": "python",
   "name": "python3"
  },
  "language_info": {
   "codemirror_mode": {
    "name": "ipython",
    "version": 3
   },
   "file_extension": ".py",
   "mimetype": "text/x-python",
   "name": "python",
   "nbconvert_exporter": "python",
   "pygments_lexer": "ipython3",
   "version": "3.10.9"
  }
 },
 "nbformat": 4,
 "nbformat_minor": 5
}
